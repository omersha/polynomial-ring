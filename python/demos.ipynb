{
 "cells": [
  {
   "cell_type": "code",
   "execution_count": 1,
   "metadata": {
    "collapsed": false
   },
   "outputs": [],
   "source": [
    "import os\n",
    "import numpy as np\n",
    "\n",
    "import polynomials"
   ]
  },
  {
   "cell_type": "code",
   "execution_count": 2,
   "metadata": {
    "collapsed": false
   },
   "outputs": [],
   "source": [
    "ring = polynomials.PolynomialRing(sofile=os.path.join(\".\", 'polynomialslib.so'))\n",
    "\n",
    "polynomial1 = ring.polynomial_from_terms([(1.0,[1,2,0]), (1.0,[0,0,0])])\n",
    "polynomial2 = ring.polynomial_from_terms([(1.0,[1,1,0]), (1.0,[0,0,0])])\n",
    "polynomial3 = ring.polynomial_from_terms([(1.0,[0,1,0]), (1.0,[0,0,0])])\n",
    "\n",
    "quotients, remainder = ring.div(polynomial1, [polynomial2, polynomial3])\n",
    "assert(ring.add(ring.mul(quotients[0], polynomial2), ring.mul(quotients[1], polynomial3), remainder).terms() == polynomial1.terms())"
   ]
  },
  {
   "cell_type": "code",
   "execution_count": 3,
   "metadata": {
    "collapsed": false
   },
   "outputs": [
    {
     "name": "stdout",
     "output_type": "stream",
     "text": [
      "[[(1.0, [2, 0, 0])]] []\n"
     ]
    }
   ],
   "source": [
    "polynomial1 = ring.polynomial_from_terms([(1.0,[2,0,0]), (-2.0,[1,0,1]), (5.0,[0,0,0])])\n",
    "polynomial2 = ring.polynomial_from_terms([(1.0,[1,2,0]), (1.0,[0,1,1]), (1.0,[0,0,0])])\n",
    "polynomial3 = ring.polynomial_from_terms([(3.0,[0,2,0]), (-8.0,[1,0,1])])\n",
    "\n",
    "groebner = ring.buchbergers(True, polynomial1, polynomial2, polynomial3)\n",
    "quotients, remainder = ring.div(ring.polynomial_from_terms([(1.0,[2,0,0])]), groebner)\n",
    "print quotients, remainder"
   ]
  },
  {
   "cell_type": "code",
   "execution_count": 4,
   "metadata": {
    "collapsed": false
   },
   "outputs": [
    {
     "name": "stdout",
     "output_type": "stream",
     "text": [
      "set([(0, 1, 2), (1, 1, 0), (0, 0, 2), (0, 0, 3), (0, 0, 4)])\n"
     ]
    }
   ],
   "source": [
    "polynomial1 = ring.polynomial_from_terms([(1.0,[2,0,0]), (-2.0,[1,0,1]), (5.0,[0,0,0])])\n",
    "polynomial2 = ring.polynomial_from_terms([(1.0,[1,2,0]), (1.0,[0,1,1]), (1.0,[0,0,0])])\n",
    "polynomial3 = ring.polynomial_from_terms([(3.0,[0,2,0]), (-8.0,[1,0,1])])\n",
    "\n",
    "groebner = ring.buchbergers(False, polynomial1, polynomial2, polynomial3)\n",
    "print polynomials.find_standard_monomial_basis(groebner)"
   ]
  }
 ],
 "metadata": {
  "kernelspec": {
   "display_name": "Python 2",
   "language": "python",
   "name": "python2"
  },
  "language_info": {
   "codemirror_mode": {
    "name": "ipython",
    "version": 2
   },
   "file_extension": ".py",
   "mimetype": "text/x-python",
   "name": "python",
   "nbconvert_exporter": "python",
   "pygments_lexer": "ipython2",
   "version": "2.7.12"
  }
 },
 "nbformat": 4,
 "nbformat_minor": 0
}
