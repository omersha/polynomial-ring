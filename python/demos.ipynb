{
 "cells": [
  {
   "cell_type": "code",
   "execution_count": 1,
   "metadata": {
    "collapsed": false
   },
   "outputs": [],
   "source": [
    "import os\n",
    "import numpy as np\n",
    "\n",
    "import polynomials"
   ]
  },
  {
   "cell_type": "code",
   "execution_count": 2,
   "metadata": {
    "collapsed": false
   },
   "outputs": [],
   "source": [
    "ring = polynomials.PolynomialRing(sofile=os.path.join(\".\", 'polynomialslib.so'))\n",
    "\n",
    "polynomial1 = ring.polynomial_from_terms([(1.0,[1,2,0]), (1.0,[0,0,0])])\n",
    "polynomial2 = ring.polynomial_from_terms([(1.0,[1,1,0]), (1.0,[0,0,0])])\n",
    "polynomial3 = ring.polynomial_from_terms([(1.0,[0,1,0]), (1.0,[0,0,0])])\n",
    "\n",
    "quotients, remainder = ring.div(polynomial1, [polynomial2, polynomial3])\n",
    "assert(ring.add(ring.mul(quotients[0], polynomial2), ring.mul(quotients[1], polynomial3), remainder).terms() == polynomial1.terms())"
   ]
  },
  {
   "cell_type": "code",
   "execution_count": 3,
   "metadata": {
    "collapsed": false
   },
   "outputs": [
    {
     "name": "stdout",
     "output_type": "stream",
     "text": [
      "[[(1.0, [2, 0, 0])]] []\n"
     ]
    }
   ],
   "source": [
    "polynomial1 = ring.polynomial_from_terms([(1.0,[2,0,0]), (-2.0,[1,0,1]), (5.0,[0,0,0])])\n",
    "polynomial2 = ring.polynomial_from_terms([(1.0,[1,2,0]), (1.0,[0,1,1]), (1.0,[0,0,0])])\n",
    "polynomial3 = ring.polynomial_from_terms([(3.0,[0,2,0]), (-8.0,[1,0,1])])\n",
    "\n",
    "groebner = ring.buchbergers(True, polynomial1, polynomial2, polynomial3)\n",
    "quotients, remainder = ring.div(ring.polynomial_from_terms([(1.0,[2,0,0])]), groebner)\n",
    "print quotients, remainder"
   ]
  },
  {
   "cell_type": "code",
   "execution_count": 4,
   "metadata": {
    "collapsed": false
   },
   "outputs": [
    {
     "name": "stdout",
     "output_type": "stream",
     "text": [
      "set([(0, 1, 2), (1, 1, 0), (0, 0, 2), (0, 0, 3), (0, 0, 4)])\n"
     ]
    }
   ],
   "source": [
    "polynomial1 = ring.polynomial_from_terms([(1.0,[2,0,0]), (-2.0,[1,0,1]), (5.0,[0,0,0])])\n",
    "polynomial2 = ring.polynomial_from_terms([(1.0,[1,2,0]), (1.0,[0,1,1]), (1.0,[0,0,0])])\n",
    "polynomial3 = ring.polynomial_from_terms([(3.0,[0,2,0]), (-8.0,[1,0,1])])\n",
    "\n",
    "groebner = ring.buchbergers(False, polynomial1, polynomial2, polynomial3)\n",
    "print polynomials.find_standard_monomial_basis(groebner)"
   ]
  },
  {
   "cell_type": "markdown",
   "metadata": {},
   "source": [
    "### Dense (Spectral) Multiplication"
   ]
  },
  {
   "cell_type": "code",
   "execution_count": 5,
   "metadata": {
    "collapsed": true
   },
   "outputs": [],
   "source": [
    "# Max Degree = 3\n",
    "class DensePolynomials3(object):\n",
    "    @staticmethod\n",
    "    def make(x3=0, x2y=0, x2z=0, xy2=0, xyz=0, xz2=0, y3=0, y2z=0, yz2=0,\n",
    "             z3=0, x2=0, xy=0, xz=0, y2=0, yz=0, z2=0, x=0, y=0, z=0, c=0):\n",
    "        polynomial = np.zeros((4,4,4))\n",
    "        polynomial[3,0,0] = x3\n",
    "        polynomial[2,1,0] = x2y\n",
    "        polynomial[2,0,1] = x2z\n",
    "        polynomial[1,2,0] = xy2\n",
    "        polynomial[1,1,1] = xyz\n",
    "        polynomial[1,0,2] = xz2\n",
    "        polynomial[0,3,0] = y3\n",
    "        polynomial[0,2,1] = y2z\n",
    "        polynomial[0,1,2] = yz2\n",
    "        polynomial[0,0,3] = z3\n",
    "        polynomial[2,0,0] = x2\n",
    "        polynomial[1,1,0] = xy\n",
    "        polynomial[1,0,1] = xz\n",
    "        polynomial[0,2,0] = y2\n",
    "        polynomial[0,1,1] = yz\n",
    "        polynomial[0,0,2] = z2\n",
    "        polynomial[1,0,0] = x\n",
    "        polynomial[0,1,0] = y\n",
    "        polynomial[0,0,1] = z\n",
    "        polynomial[0,0,0] = c\n",
    "        return polynomial\n",
    "\n",
    "    @staticmethod\n",
    "    def grlex_coeffs(polynomial):\n",
    "        return np.array([polynomial[3,0,0], polynomial[2,1,0], polynomial[2,0,1], polynomial[1,2,0], \n",
    "                         polynomial[1,1,1], polynomial[1,0,2], polynomial[0,3,0], polynomial[0,2,1], \n",
    "                         polynomial[0,1,2], polynomial[0,0,3], polynomial[2,0,0], polynomial[1,1,0], \n",
    "                         polynomial[1,0,1], polynomial[0,2,0], polynomial[0,1,1], polynomial[0,0,2], \n",
    "                         polynomial[1,0,0], polynomial[0,1,0], polynomial[0,0,1], polynomial[0,0,0]])\n",
    "    \n",
    "    @staticmethod\n",
    "    def grevlex_coeffs(polynomial):\n",
    "        return np.array([polynomial[3,0,0], polynomial[2,1,0], polynomial[1,2,0], polynomial[0,3,0], \n",
    "                         polynomial[2,0,1], polynomial[1,1,1], polynomial[0,2,1], polynomial[1,0,2], \n",
    "                         polynomial[0,1,2], polynomial[0,0,3], polynomial[2,0,0], polynomial[1,1,0], \n",
    "                         polynomial[0,2,0], polynomial[1,0,1], polynomial[0,1,1], polynomial[0,0,2], \n",
    "                         polynomial[1,0,0], polynomial[0,1,0], polynomial[0,0,1], polynomial[0,0,0]])\n",
    "    \n",
    "    @staticmethod\n",
    "    def mul(polynomial_left, polynomial_right):\n",
    "        return np.real(np.fft.ifftn(np.fft.fftn(polynomial_left)*np.fft.fftn(polynomial_right))).astype(np.float64)"
   ]
  }
 ],
 "metadata": {
  "kernelspec": {
   "display_name": "Python 2",
   "language": "python",
   "name": "python2"
  },
  "language_info": {
   "codemirror_mode": {
    "name": "ipython",
    "version": 2
   },
   "file_extension": ".py",
   "mimetype": "text/x-python",
   "name": "python",
   "nbconvert_exporter": "python",
   "pygments_lexer": "ipython2",
   "version": "2.7.12"
  }
 },
 "nbformat": 4,
 "nbformat_minor": 0
}
